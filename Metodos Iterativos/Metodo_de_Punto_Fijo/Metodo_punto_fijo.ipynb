{
 "cells": [
  {
   "cell_type": "markdown",
   "metadata": {},
   "source": [
    "# Método de Punto fijo"
   ]
  },
  {
   "cell_type": "code",
   "execution_count": 2,
   "metadata": {},
   "outputs": [
    {
     "data": {
      "text/plain": [
       "6"
      ]
     },
     "execution_count": 2,
     "metadata": {},
     "output_type": "execute_result"
    }
   ],
   "source": [
    "# Importamos la librería Math\n",
    "from math import *"
   ]
  },
  {
   "cell_type": "code",
   "execution_count": 3,
   "metadata": {},
   "outputs": [],
   "source": [
    "def punto_fijo(funcion,p_0,exponente_precision,iteraciones):\n",
    "    '''\n",
    "    Descripción: Aplica el algoritmo de punto fijo a una función y retorna una tabla con las iteraciones y una aproximación de la raiz.\\n\n",
    "    Recibe: Una función (definida con el método lambda), la aproximación inicial p_0, el exponente del error relativo 10^{-exponente} y las iteraciones que se realizarán.\\n\n",
    "    '''\n",
    "    i = 0 #Contador de iteraciones \n",
    "\n",
    "    cota = 10**(-exponente_precision) # cota o error relativo requerido\n",
    "    e_n = 1\n",
    "\n",
    "    print('  {0:18s} {1:21s} {2:27s}'.format('i','p_n','e_n'))  #Formato de la tabla \n",
    "    print('{0:3d} {1:20} {2:24}'.format(i,p_0,e_n))             # Agragando los valores iniciales en la tabla\n",
    "    i = 1\n",
    "    while i<=iteraciones:\n",
    "        p_1 = f(p_0)                                            # Se determina el punto fijo en cada iteración\n",
    "        e_n = abs(p_1 - p_0)/abs(p_1)                           # Se determina el error relativo del punto fijo actual respecto al anterio.\n",
    "        print('{0:3d} {1:20} {2:24}'.format(i,p_1,e_n))         # Se agragan a la tabla los valores obtenidos\n",
    "        if e_n < cota:                                          # Si el error relativo es menor al requerido se imprime por pantalla el punto fijo\n",
    "            return f'La raíz es p_{i} = {p_1}'\n",
    "        p_0 = p_1                                               # Si no, se cambia el valor inicial de la aproximación por el siguiente\n",
    "        i += 1\n",
    "    return f'Se detuvo la inteación hasta i={i-1} con p_{i-1}={p_1}'"
   ]
  },
  {
   "cell_type": "code",
   "execution_count": 4,
   "metadata": {},
   "outputs": [
    {
     "name": "stdout",
     "output_type": "stream",
     "text": [
      "  i                  p_n                   e_n                        \n",
      "  0   0.7853981633974483                        1\n",
      "  1   0.7071067811865476      0.11072073453959144\n",
      "  2   0.7602445970756301      0.06989568369638317\n",
      "  3   0.7246674808891262      0.04909440139752471\n",
      "  4   0.7487198857894842     0.032124704254376836\n",
      "  5   0.7325608445922418     0.022058292244976428\n",
      "  6   0.7434642113152937     0.014665624191596685\n",
      "  7   0.7361282565008519     0.009965593291192098\n",
      "  8   0.7410736870837102      0.00667333177395586\n",
      "  9   0.7377441589925746    0.0045131202335539425\n",
      " 10   0.7399877647958709     0.003031949864624058\n"
     ]
    },
    {
     "data": {
      "text/plain": [
       "'Se detuvo la inteación hasta i=10 con p_10=0.7399877647958709'"
      ]
     },
     "execution_count": 4,
     "metadata": {},
     "output_type": "execute_result"
    }
   ],
   "source": [
    "# Hallar un punto fijo de la función f(x) = cos(x) cerca del punto pi/4\n",
    "f = lambda x: cos(x)\n",
    "punto_fijo(f,pi/4,10,10)"
   ]
  },
  {
   "cell_type": "code",
   "execution_count": 4,
   "metadata": {},
   "outputs": [
    {
     "name": "stdout",
     "output_type": "stream",
     "text": [
      "  i                  p_n                   e_n                        \n",
      "  0                  1.5                        1\n",
      "  1    1.348399724926484      0.11242977306434952\n",
      "  2   1.3673763719912828     0.013878144637795242\n",
      "  3    1.364957015402487    0.0017724782256841795\n",
      "  4   1.3652647481134421   0.00022540149182076997\n",
      "  5    1.365225594160525   2.8679474721743175e-05\n",
      "  6   1.3652305756734338    3.648843644147267e-06\n",
      "  7   1.3652299418781833    4.642406609045594e-07\n",
      "  8   1.3652300225155685    5.906505415475378e-08\n",
      "  9    1.365230012256122    7.514811651835413e-09\n",
      " 10   1.3652300135614253    9.561049683172512e-10\n",
      " 11   1.3652300133953523   1.2164465441990432e-10\n",
      " 12   1.3652300134164816   1.5476747733211713e-11\n",
      " 13   1.3652300134137934   1.9691143656483237e-12\n",
      " 14   1.3652300134141355    2.506322984606679e-13\n"
     ]
    },
    {
     "data": {
      "text/plain": [
       "'La raíz es p_14 = 1.3652300134141355'"
      ]
     },
     "execution_count": 4,
     "metadata": {},
     "output_type": "execute_result"
    }
   ],
   "source": [
    "# Hallar un punto fijo de la función f(x) = sqrt(10/(4+x)) \n",
    "f = lambda x: sqrt(10/(4+x))\n",
    "punto_fijo(f,1.5,12,15)"
   ]
  },
  {
   "cell_type": "code",
   "execution_count": 9,
   "metadata": {},
   "outputs": [
    {
     "name": "stdout",
     "output_type": "stream",
     "text": [
      "  i                  p_n                   e_n                        \n",
      "  0   0.7853981633974483                        1\n",
      "  1   0.7071067811865476      0.11072073453959144\n",
      "  2   0.7602445970756301      0.06989568369638317\n",
      "  3   0.7246674808891262      0.04909440139752471\n",
      "  4   0.7487198857894842     0.032124704254376836\n",
      "  5   0.7325608445922418     0.022058292244976428\n",
      "  6   0.7434642113152937     0.014665624191596685\n",
      "  7   0.7361282565008519     0.009965593291192098\n",
      "  8   0.7410736870837102      0.00667333177395586\n",
      "  9   0.7377441589925746    0.0045131202335539425\n",
      " 10   0.7399877647958709     0.003031949864624058\n"
     ]
    },
    {
     "data": {
      "text/plain": [
       "'Se detuvo la inteación hasta i=10 con p_10=0.7399877647958709'"
      ]
     },
     "execution_count": 9,
     "metadata": {},
     "output_type": "execute_result"
    }
   ],
   "source": [
    "# Hallar una raíz de la función f(x) = cos(x) - x\n",
    "f = lambda x: x + (cos(x) - x) # Transformando en un problema de punto fijo\n",
    "punto_fijo(f,pi/4,8,10)"
   ]
  }
 ],
 "metadata": {
  "interpreter": {
   "hash": "1f485c2d89f8de183222016d4ba36353fb3264802c489289958f803c528ff9eb"
  },
  "kernelspec": {
   "display_name": "Python 3.7.3 32-bit",
   "language": "python",
   "name": "python3"
  },
  "language_info": {
   "codemirror_mode": {
    "name": "ipython",
    "version": 3
   },
   "file_extension": ".py",
   "mimetype": "text/x-python",
   "name": "python",
   "nbconvert_exporter": "python",
   "pygments_lexer": "ipython3",
   "version": "3.7.3"
  },
  "orig_nbformat": 4
 },
 "nbformat": 4,
 "nbformat_minor": 2
}
