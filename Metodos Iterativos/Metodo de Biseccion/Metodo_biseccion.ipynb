{
 "cells": [
  {
   "cell_type": "markdown",
   "metadata": {},
   "source": [
    "# Metodo de Bisección"
   ]
  },
  {
   "cell_type": "code",
   "execution_count": 1,
   "metadata": {},
   "outputs": [
    {
     "data": {
      "text/plain": [
       "6"
      ]
     },
     "execution_count": 1,
     "metadata": {},
     "output_type": "execute_result"
    }
   ],
   "source": [
    "#Importamos la libreria math\n",
    "from math import *"
   ]
  },
  {
   "cell_type": "markdown",
   "metadata": {},
   "source": [
    "## Algoritmo de Bisección"
   ]
  },
  {
   "cell_type": "markdown",
   "metadata": {},
   "source": [
    "Se inicia con una función continua en un intervalo cerrado $[a,b]$ que verifica $f(a)f(b)<0$. Luego hallamos la primera aproximación $p_1 = \\frac{b-a}{2}$.\n",
    "\n",
    "Ahora verificamos si $f(a)f(p_1)<0$ o si $f(p_1)f(b)<0$. Dependiendo de cual sea el caso que se cumple, hallamos la segunda aproximación $p_2 = \\frac{p_1 - a}{2}$ en el primer caso.\n",
    "\n",
    "De esa manera se va generando una sucesión $\\{p_n\\}_{n=1}^\\infty$, $n\\in \\mathbb{Z}$ verificando cuáles pares de numeros verifican $$f(p_n)f(p_k)<0$$ donde $k < n$. \n",
    "\n",
    "La ventaja de éste metodo es que siempre converge a la raiz de la función."
   ]
  },
  {
   "cell_type": "code",
   "execution_count": 17,
   "metadata": {},
   "outputs": [],
   "source": [
    "def biseccion(f,a ,b, exp, prec, interaciones):\n",
    "    i = 1\n",
    "\n",
    "    p_anterior = a \n",
    "    error_relativo_aproximado = 10**(-exp)\n",
    "    p = (a + b)/2\n",
    "    e_a2 = 0\n",
    "    print('{0:10s} {1:20s} {2:20s} {3:20s} {4:28s} {5:20}'.format('i','a_n','b_n','p_n','f(p_n)','e_r'))\n",
    "    while (i<= interaciones):\n",
    "        c = f(p)\n",
    "        e_a2 = abs((p_anterior - p)/p)\n",
    "        print('{0:1d} {1:12} {2:20} {3:20} {4:20} {5:30} '.format(i,round(a,prec),round(b,prec),round(p,prec),round(f(p),prec),round(e_a2,prec+3)))\n",
    "\n",
    "        if (c == 0):\n",
    "            return f'La raiz es p{i} = {round(p,prec)}'\n",
    "\n",
    "        if (e_a2)<error_relativo_aproximado:\n",
    "            return f'La raiz aproximada es p{i}={round(p,prec)}'\n",
    "            \n",
    "        if f(a)*c<0:\n",
    "            a = a\n",
    "            b = p\n",
    "        elif f(a)*c>0:\n",
    "            a = p\n",
    "            b = b \n",
    "        p_anterior = p\n",
    "        p = (a + b)/2\n",
    "\n",
    "        i += 1\n",
    "    return f'No se ha alcanzado la precisión requerida hasta i={i-1} obteniendo p_{i-1}={round(p,prec)}'"
   ]
  },
  {
   "cell_type": "markdown",
   "metadata": {},
   "source": [
    "## Ejemplos"
   ]
  },
  {
   "cell_type": "code",
   "execution_count": 18,
   "metadata": {},
   "outputs": [
    {
     "name": "stdout",
     "output_type": "stream",
     "text": [
      "i          a_n                  b_n                  p_n                  f(p_n)                       e_r                 \n",
      "1            1                    2                  1.5                2.375                     0.33333333 \n",
      "2            1                  1.5                 1.25             -1.79688                            0.2 \n",
      "3         1.25                  1.5                1.375              0.16211                     0.09090909 \n",
      "4         1.25                1.375               1.3125             -0.84839                     0.04761905 \n",
      "5       1.3125                1.375              1.34375             -0.35098                     0.02325581 \n",
      "6      1.34375                1.375              1.35938             -0.09641                     0.01149425 \n",
      "7      1.35938                1.375              1.36719              0.03236                     0.00571429 \n",
      "8      1.35938              1.36719              1.36328             -0.03215                     0.00286533 \n",
      "9      1.36328              1.36719              1.36523                7e-05                     0.00143062 \n",
      "10      1.36328              1.36523              1.36426             -0.01605                     0.00071582 \n",
      "11      1.36426              1.36523              1.36475             -0.00799                     0.00035778 \n",
      "12      1.36475              1.36523              1.36499             -0.00396                     0.00017886 \n",
      "13      1.36499              1.36523              1.36511             -0.00194                      8.942e-05 \n"
     ]
    },
    {
     "data": {
      "text/plain": [
       "'La raiz aproximada es p13=1.36511'"
      ]
     },
     "execution_count": 18,
     "metadata": {},
     "output_type": "execute_result"
    }
   ],
   "source": [
    "#Ejemplo: HALLAR LA RAIZ DE LA FUNCIÓN f(x) = x**3 + 4*x**2 - 10 en el intervalo [1,2].\n",
    "f = lambda x:   (x**3 + 4*x**2 - 10 )\n",
    "biseccion(f,1, 2, 4, 5, 16)"
   ]
  },
  {
   "cell_type": "markdown",
   "metadata": {},
   "source": [
    "##### Use el método de bisección para encontrar soluciones precisas dentro de 10^{-5} para los siguientes problemas."
   ]
  },
  {
   "cell_type": "code",
   "execution_count": 69,
   "metadata": {},
   "outputs": [
    {
     "name": "stdout",
     "output_type": "stream",
     "text": [
      "i                    a_n                  b_n                      p_n                      f(p_n)                      \n",
      "1                      0                      1                    0.5               -0.207106781                            1.0 \n",
      "2                    0.5                      1                   0.75                0.155396442             0.3333333333333333 \n",
      "3                    0.5                   0.75                  0.625               -0.023419777                            0.2 \n",
      "4                  0.625                   0.75                 0.6875                0.066571094            0.09090909090909091 \n",
      "5                  0.625                 0.6875                0.65625                0.021724521           0.047619047619047616 \n",
      "6                  0.625                0.65625               0.640625               -0.000810008           0.024390243902439025 \n",
      "7               0.640625                0.65625              0.6484375                0.010466611           0.012048192771084338 \n",
      "8               0.640625              0.6484375             0.64453125                0.004830646           0.006060606060606061 \n",
      "9               0.640625             0.64453125            0.642578125                0.002010906            0.00303951367781155 \n",
      "10               0.640625            0.642578125            0.641601562                0.000600596             0.0015220700152207 \n",
      "11               0.640625            0.641601562            0.641113281               -0.000104669          0.0007616146230007616 \n",
      "12            0.641113281            0.641601562            0.641357422                0.000247972         0.00038066235249333843 \n",
      "13            0.641113281            0.641357422            0.641235352                 7.1654e-05         0.00019036740909956216 \n",
      "14            0.641113281            0.641235352            0.641174316                -1.6507e-05          9.519276534983341e-05 \n",
      "15            0.641174316            0.641235352            0.641204834                 2.7573e-05         4.7594117367093426e-05 \n",
      "16            0.641174316            0.641204834            0.641189575                  5.533e-06         2.3797624997025297e-05 \n",
      "17            0.641174316            0.641189575            0.641181946                 -5.487e-06         1.1898954081936197e-05 \n",
      "18            0.641181946            0.641189575             0.64118576                    2.3e-08          5.949441644901626e-06 \n"
     ]
    },
    {
     "data": {
      "text/plain": [
       "'La raiz aproximada es p18=0.64118576'"
      ]
     },
     "execution_count": 69,
     "metadata": {},
     "output_type": "execute_result"
    }
   ],
   "source": [
    "#Ejemplo: HALLAR LA RAIZ DE LA FUNCIÓN f(x) = x - 2**(-x), en el intervalo [0,1].\n",
    "g = lambda x: x - 2**(-x)\n",
    "biseccion(g,0,1,5,9,20)"
   ]
  },
  {
   "cell_type": "code",
   "execution_count": 70,
   "metadata": {},
   "outputs": [
    {
     "name": "stdout",
     "output_type": "stream",
     "text": [
      "i                    a_n                  b_n                      p_n                      f(p_n)                      \n",
      "1                      0                      1                    0.5                0.898721271                            1.0 \n",
      "2                      0                    0.5                   0.25               -0.028474583                            1.0 \n",
      "3                   0.25                    0.5                  0.375                0.439366415             0.3333333333333333 \n",
      "4                   0.25                  0.375                 0.3125                0.206681691                            0.2 \n",
      "5                   0.25                 0.3125                0.28125                0.089433196             0.1111111111111111 \n",
      "6                   0.25                0.28125               0.265625                0.030564234           0.058823529411764705 \n",
      "7                   0.25               0.265625              0.2578125                0.001066368           0.030303030303030304 \n",
      "8                   0.25              0.2578125             0.25390625               -0.013698684           0.015384615384615385 \n",
      "9             0.25390625              0.2578125            0.255859375               -0.006314807           0.007633587786259542 \n",
      "10            0.255859375              0.2578125            0.256835938               -0.002623882          0.0038022813688212928 \n",
      "11            0.256835938              0.2578125            0.257324219               -0.000778673          0.0018975332068311196 \n",
      "12            0.257324219              0.2578125            0.257568359                0.000143868          0.0009478672985781991 \n",
      "13            0.257324219            0.257568359            0.257446289               -0.000317397           0.000474158368895211 \n",
      "14            0.257446289            0.257568359            0.257507324                -8.6763e-05         0.00023702299123014932 \n",
      "15            0.257507324            0.257568359            0.257537842                 2.8553e-05         0.00011849745230477545 \n",
      "16            0.257507324            0.257537842            0.257522583                -2.9105e-05         5.9252236771938144e-05 \n",
      "17            0.257522583            0.257537842            0.257530212                  -2.76e-07          2.962524070508073e-05 \n",
      "18            0.257530212            0.257537842            0.257534027                 1.4138e-05           1.48124009420687e-05 \n",
      "19            0.257530212            0.257534027             0.25753212                  6.931e-06         7.4062553232460135e-06 \n"
     ]
    },
    {
     "data": {
      "text/plain": [
       "'La raiz aproximada es p19=0.25753212'"
      ]
     },
     "execution_count": 70,
     "metadata": {},
     "output_type": "execute_result"
    }
   ],
   "source": [
    "# Ejemplo: HALLAR LA RAIZ DE LA FUNCIÓN f(x) = e**x - x**2 + 3*x - 2, en el intervalo [0,1].\n",
    "e = exp(1)\n",
    "h = lambda x: e**x - x**2 + 3*x - 2\n",
    "biseccion(h,0,1,5,9,20)"
   ]
  },
  {
   "cell_type": "code",
   "execution_count": 72,
   "metadata": {},
   "outputs": [
    {
     "name": "stdout",
     "output_type": "stream",
     "text": [
      "i                    a_n                  b_n                      p_n                      f(p_n)                      \n",
      "1                     -3                     -2                   -2.5               -3.668310927                            0.2 \n",
      "2                   -2.5                     -2                  -2.25               -0.613918903             0.1111111111111111 \n",
      "3                  -2.25                     -2                 -2.125                0.630246832           0.058823529411764705 \n",
      "4                  -2.25                 -2.125                -2.1875                0.038075532            0.02857142857142857 \n",
      "5                  -2.25                -2.1875               -2.21875               -0.280836176           0.014084507042253521 \n",
      "6               -2.21875                -2.1875              -2.203125               -0.119556815          0.0070921985815602835 \n",
      "7              -2.203125                -2.1875             -2.1953125               -0.040278514          0.0035587188612099642 \n",
      "8             -2.1953125                -2.1875            -2.19140625               -0.000985195             0.0017825311942959 \n",
      "9            -2.19140625                -2.1875           -2.189453125                0.018574337          0.0008920606601248885 \n",
      "10            -2.19140625           -2.189453125           -2.190429688                0.008801851         0.00044583147570218456 \n",
      "11            -2.19140625           -2.190429688           -2.190917969                0.003910147         0.00022286605749944285 \n",
      "12            -2.19140625           -2.190917969           -2.191162109                 0.00146293         0.00011142061281337047 \n",
      "13            -2.19140625           -2.191162109            -2.19128418                0.000238981         5.5707202941340315e-05 \n",
      "14            -2.19140625            -2.19128418           -2.191345215               -0.000373078         2.7852825669164137e-05 \n",
      "15           -2.191345215            -2.19128418           -2.191314697                -6.7041e-05         1.3926606782257503e-05 \n",
      "16           -2.191314697            -2.19128418           -2.191299438                 8.5972e-05          6.963351879060505e-06 \n"
     ]
    },
    {
     "data": {
      "text/plain": [
       "'La raiz aproximada es p16=-2.191299438'"
      ]
     },
     "execution_count": 72,
     "metadata": {},
     "output_type": "execute_result"
    }
   ],
   "source": [
    "# Ejemplo: HALLAR LA RAIZ DE LA FUNCIÓN f(x) = 2*x*cos(2*x) - (x + 1)**2, en el intervalo [-3,-2]\n",
    "e = exp(1)\n",
    "h = lambda x: 2*x*cos(2*x) - (x + 1)**2\n",
    "biseccion(h,-3,-2,5,9,20)"
   ]
  },
  {
   "cell_type": "code",
   "execution_count": 73,
   "metadata": {},
   "outputs": [
    {
     "name": "stdout",
     "output_type": "stream",
     "text": [
      "i                    a_n                  b_n                      p_n                      f(p_n)                      \n",
      "1                     -1                      0                   -0.5               -0.790302306                            1.0 \n",
      "2                     -1                   -0.5                  -0.75               -0.168605803             0.3333333333333333 \n",
      "3                     -1                  -0.75                 -0.875                0.296305597            0.14285714285714285 \n",
      "4                 -0.875                  -0.75                -0.8125                0.052881594            0.07692307692307693 \n",
      "5                -0.8125                  -0.75               -0.78125               -0.060814424                           0.04 \n",
      "6                -0.8125               -0.78125              -0.796875               -0.004680561             0.0196078431372549 \n",
      "7                -0.8125              -0.796875             -0.8046875                 0.02392518           0.009708737864077669 \n",
      "8             -0.8046875              -0.796875            -0.80078125                0.009578066           0.004878048780487805 \n",
      "9            -0.80078125              -0.796875           -0.798828125                0.002437641          0.0024449877750611247 \n",
      "10           -0.798828125              -0.796875           -0.797851562               -0.001124244          0.0012239902080783353 \n",
      "11           -0.798828125           -0.797851562           -0.798339844                0.000656003          0.0006116207951070336 \n",
      "12           -0.798339844           -0.797851562           -0.798095703               -0.000234294          0.0003059039461609055 \n",
      "13           -0.798339844           -0.798095703           -0.798217773                0.000210811          0.0001529285823520416 \n",
      "14           -0.798217773           -0.798095703           -0.798156738                -1.1753e-05          7.647013841095053e-05 \n",
      "15           -0.798217773           -0.798156738           -0.798187256                 9.9527e-05          3.823360734085261e-05 \n",
      "16           -0.798187256           -0.798156738           -0.798171997                 4.3886e-05          1.911716912959529e-05 \n",
      "17           -0.798171997           -0.798156738           -0.798164368                 1.6067e-05          9.558675932209871e-06 \n"
     ]
    },
    {
     "data": {
      "text/plain": [
       "'La raiz aproximada es p17=-0.798164368'"
      ]
     },
     "execution_count": 73,
     "metadata": {},
     "output_type": "execute_result"
    }
   ],
   "source": [
    "# Ejemplo: HALLAR LA RAIZ DE LA FUNCIÓN f(x) = 2*x*cos(2*x) - (x + 1)**2, en el intervalo [-1,0]\n",
    "e = exp(1)\n",
    "h = lambda x: 2*x*cos(2*x) - (x + 1)**2\n",
    "biseccion(h,-1,0,5,9,20)"
   ]
  },
  {
   "cell_type": "code",
   "execution_count": 75,
   "metadata": {},
   "outputs": [
    {
     "name": "stdout",
     "output_type": "stream",
     "text": [
      "i                    a_n                  b_n                      p_n                      f(p_n)                      \n",
      "1                    0.2                    0.3                   0.25              -0.1327718946            0.19999999999999996 \n",
      "2                   0.25                    0.3                  0.275              -0.0615830707            0.09090909090909098 \n",
      "3                  0.275                    0.3                 0.2875              -0.0271127188           0.043478260869565064 \n",
      "4                 0.2875                    0.3                0.29375              -0.0101609593           0.021276595744680778 \n",
      "5                0.29375                    0.3               0.296875              -0.0017562321           0.010526315789473833 \n",
      "6               0.296875                    0.3              0.2984375               0.0024283062           0.005235602094240912 \n",
      "7               0.296875              0.2984375             0.29765625               0.0003375236           0.002624671916010536 \n",
      "8               0.296875             0.29765625            0.297265625              -0.0007089827           0.001314060446780664 \n",
      "9            0.297265625             0.29765625           0.2974609375              -0.0001856366          0.0006565988181222766 \n",
      "10           0.2974609375             0.29765625           0.2975585938                7.59667e-05          0.0003281916639318107 \n",
      "11           0.2974609375           0.2975585938           0.2975097656               -5.48292e-05         0.00016412276382738014 \n",
      "12           0.2975097656           0.2975585938           0.2975341797                1.05702e-05          8.205464839594354e-05 \n",
      "13           0.2975097656           0.2975341797           0.2975219727               -2.21291e-05          4.102900750845763e-05 \n",
      "14           0.2975219727           0.2975341797           0.2975280762                -5.7793e-06         2.0514082917997782e-05 \n",
      "15           0.2975280762           0.2975341797           0.2975311279                 2.3955e-06         1.0256936253178499e-05 \n",
      "16           0.2975280762           0.2975311279           0.2975296021                -1.6919e-06          5.128494428002748e-06 \n"
     ]
    },
    {
     "data": {
      "text/plain": [
       "'La raiz aproximada es p16=0.2975296021'"
      ]
     },
     "execution_count": 75,
     "metadata": {},
     "output_type": "execute_result"
    }
   ],
   "source": [
    "# Ejemplo: HALLAR LA RAIZ DE LA FUNCIÓN f(x) =  x*cos(x) - 2*x**2 + 3*x - 1 , en el intervalo [0.2,0.3]\n",
    "f = lambda x:   x*cos(x) - 2*x**2 + 3*x - 1 \n",
    "biseccion(f,0.2, 0.3, 5, 10, 16)"
   ]
  },
  {
   "cell_type": "code",
   "execution_count": 74,
   "metadata": {},
   "outputs": [
    {
     "name": "stdout",
     "output_type": "stream",
     "text": [
      "i                    a_n                  b_n                      p_n                      f(p_n)                      \n",
      "1                    1.2                    1.3                   1.25                0.019152953           0.040000000000000036 \n",
      "2                   1.25                    1.3                  1.275              -0.0545853516           0.019607843137254832 \n",
      "3                   1.25                  1.275                 1.2625              -0.0172248917           0.009900990099009866 \n",
      "4                   1.25                 1.2625                1.25625               0.0010868925           0.004975124378109346 \n",
      "5                1.25625                 1.2625               1.259375              -0.0080382883          0.0024813895781636308 \n",
      "6                1.25625               1.259375              1.2578125              -0.0034680196          0.0012422360248446499 \n",
      "7                1.25625              1.2578125             1.25703125              -0.0011886439          0.0006215040397762232 \n",
      "8                1.25625             1.25703125            1.256640625               -5.03958e-05          0.0003108486167235495 \n",
      "9                1.25625            1.256640625           1.2564453125               0.0005183683         0.00015544846883261732 \n",
      "10           1.2564453125            1.256640625           1.2565429688               0.0002340162          7.771819382928142e-05 \n",
      "11           1.2565429688            1.256640625           1.2565917969                9.18177e-05          3.885758694381544e-05 \n",
      "12           1.2565917969            1.256640625           1.2566162109                2.07128e-05         1.9428416001137398e-05 \n",
      "13           1.2566162109            1.256640625            1.256628418                -1.4841e-05           9.71411363573665e-06 \n"
     ]
    },
    {
     "data": {
      "text/plain": [
       "'La raiz aproximada es p13=1.256628418'"
      ]
     },
     "execution_count": 74,
     "metadata": {},
     "output_type": "execute_result"
    }
   ],
   "source": [
    "# Ejemplo: HALLAR LA RAIZ DE LA FUNCIÓN f(x) =  x*cos(x) - 2*x**2 + 3*x - 1 , en el intervalo [1.2,1.3]\n",
    "f = lambda x:   x*cos(x) - 2*x**2 + 3*x - 1 \n",
    "biseccion(f,1.2, 1.3, 5, 10, 16)"
   ]
  },
  {
   "cell_type": "markdown",
   "metadata": {},
   "source": [
    "# Usando la librería ***Pandas***"
   ]
  },
  {
   "cell_type": "code",
   "execution_count": 47,
   "metadata": {},
   "outputs": [],
   "source": [
    "# Importando Librería Pandas\n",
    "import pandas as pd\n",
    "\n",
    "def biseccion(f,a ,b, expon, n, interaciones):\n",
    "    i = 1\n",
    "    p_anterior = a\n",
    "    error_relativo_aproximado = 10**(-expon)\n",
    "    p = (a + b)/2\n",
    "    e_a2 = 0\n",
    "\n",
    "    # Creando los nombres en la tabla que tendra el formato de la tabla (DataFrame)\n",
    "    diccionario = {'i':[],'a_n':[],'b_n':[],'p_n':[],'f(p_n)':[],'e_r':[]}\n",
    "\n",
    "    while (i<= interaciones):\n",
    "        c = f(p)\n",
    "        e_a2 = abs((p_anterior - p)/p)\n",
    "        \n",
    "        # Agregando los valores otenidos en cada iteración en el diccionario\n",
    "        diccionario['i'].append(i)\n",
    "        diccionario['a_n'].append(round(a,n))\n",
    "        diccionario['b_n'].append(round(b,n))\n",
    "        diccionario['p_n'].append(round(p,n))\n",
    "        diccionario['f(p_n)'].append(round(c,n))\n",
    "        diccionario['e_r'].append(round(e_a2,n+2))\n",
    "\n",
    "        # Se crea el dataframe a partir del diccionario\n",
    "        frame = pd.DataFrame(diccionario, dtype=str )\n",
    "\n",
    "        if (c == 0): # Si la aproximación en esta iteración es la raiz\n",
    "            print(f'La raiz es p{i} = {round(p,n)}')\n",
    "            return frame\n",
    "\n",
    "        if (e_a2)<error_relativo_aproximado: # Si la aproximación en esta iteración produce un  error relativo menor al deseado\n",
    "            print(f'La raiz aproximada es p{i}={round(p,n)}')\n",
    "            return frame\n",
    "\n",
    "        # En el otro caso, se ajustan los datos para la siguiente iteración\n",
    "        if f(a)*c<0:\n",
    "            a = a\n",
    "            b = p\n",
    "        elif f(a)*c>0:\n",
    "            a = p\n",
    "            b = b \n",
    "        p_anterior = p\n",
    "        p = (a + b)/2\n",
    "        i += 1\n",
    "\n",
    "    print(f'No se ha alcanzado la precisión requerida hasta i={i-1} obteniendo p_{i-1}={round(p,n)}')\n",
    "    return frame"
   ]
  },
  {
   "cell_type": "markdown",
   "metadata": {},
   "source": [
    "## Ejemplo"
   ]
  },
  {
   "cell_type": "code",
   "execution_count": 55,
   "metadata": {},
   "outputs": [
    {
     "name": "stdout",
     "output_type": "stream",
     "text": [
      "La raiz aproximada es p13=1.256628418\n"
     ]
    },
    {
     "data": {
      "text/html": [
       "<div>\n",
       "<style scoped>\n",
       "    .dataframe tbody tr th:only-of-type {\n",
       "        vertical-align: middle;\n",
       "    }\n",
       "\n",
       "    .dataframe tbody tr th {\n",
       "        vertical-align: top;\n",
       "    }\n",
       "\n",
       "    .dataframe thead th {\n",
       "        text-align: right;\n",
       "    }\n",
       "</style>\n",
       "<table border=\"1\" class=\"dataframe\">\n",
       "  <thead>\n",
       "    <tr style=\"text-align: right;\">\n",
       "      <th></th>\n",
       "      <th>i</th>\n",
       "      <th>a_n</th>\n",
       "      <th>b_n</th>\n",
       "      <th>p_n</th>\n",
       "      <th>f(p_n)</th>\n",
       "      <th>e_r</th>\n",
       "    </tr>\n",
       "  </thead>\n",
       "  <tbody>\n",
       "    <tr>\n",
       "      <th>0</th>\n",
       "      <td>1</td>\n",
       "      <td>1.2</td>\n",
       "      <td>1.3</td>\n",
       "      <td>1.25</td>\n",
       "      <td>0.019152953</td>\n",
       "      <td>0.04</td>\n",
       "    </tr>\n",
       "    <tr>\n",
       "      <th>1</th>\n",
       "      <td>2</td>\n",
       "      <td>1.25</td>\n",
       "      <td>1.3</td>\n",
       "      <td>1.275</td>\n",
       "      <td>-0.0545853516</td>\n",
       "      <td>0.019607843137</td>\n",
       "    </tr>\n",
       "    <tr>\n",
       "      <th>2</th>\n",
       "      <td>3</td>\n",
       "      <td>1.25</td>\n",
       "      <td>1.275</td>\n",
       "      <td>1.2625</td>\n",
       "      <td>-0.0172248917</td>\n",
       "      <td>0.009900990099</td>\n",
       "    </tr>\n",
       "    <tr>\n",
       "      <th>3</th>\n",
       "      <td>4</td>\n",
       "      <td>1.25</td>\n",
       "      <td>1.2625</td>\n",
       "      <td>1.25625</td>\n",
       "      <td>0.0010868925</td>\n",
       "      <td>0.004975124378</td>\n",
       "    </tr>\n",
       "    <tr>\n",
       "      <th>4</th>\n",
       "      <td>5</td>\n",
       "      <td>1.25625</td>\n",
       "      <td>1.2625</td>\n",
       "      <td>1.259375</td>\n",
       "      <td>-0.0080382883</td>\n",
       "      <td>0.002481389578</td>\n",
       "    </tr>\n",
       "    <tr>\n",
       "      <th>5</th>\n",
       "      <td>6</td>\n",
       "      <td>1.25625</td>\n",
       "      <td>1.259375</td>\n",
       "      <td>1.2578125</td>\n",
       "      <td>-0.0034680196</td>\n",
       "      <td>0.001242236025</td>\n",
       "    </tr>\n",
       "    <tr>\n",
       "      <th>6</th>\n",
       "      <td>7</td>\n",
       "      <td>1.25625</td>\n",
       "      <td>1.2578125</td>\n",
       "      <td>1.25703125</td>\n",
       "      <td>-0.0011886439</td>\n",
       "      <td>0.00062150404</td>\n",
       "    </tr>\n",
       "    <tr>\n",
       "      <th>7</th>\n",
       "      <td>8</td>\n",
       "      <td>1.25625</td>\n",
       "      <td>1.25703125</td>\n",
       "      <td>1.256640625</td>\n",
       "      <td>-5.03958e-05</td>\n",
       "      <td>0.000310848617</td>\n",
       "    </tr>\n",
       "    <tr>\n",
       "      <th>8</th>\n",
       "      <td>9</td>\n",
       "      <td>1.25625</td>\n",
       "      <td>1.256640625</td>\n",
       "      <td>1.2564453125</td>\n",
       "      <td>0.0005183683</td>\n",
       "      <td>0.000155448469</td>\n",
       "    </tr>\n",
       "    <tr>\n",
       "      <th>9</th>\n",
       "      <td>10</td>\n",
       "      <td>1.2564453125</td>\n",
       "      <td>1.256640625</td>\n",
       "      <td>1.2565429688</td>\n",
       "      <td>0.0002340162</td>\n",
       "      <td>7.7718194e-05</td>\n",
       "    </tr>\n",
       "    <tr>\n",
       "      <th>10</th>\n",
       "      <td>11</td>\n",
       "      <td>1.2565429688</td>\n",
       "      <td>1.256640625</td>\n",
       "      <td>1.2565917969</td>\n",
       "      <td>9.18177e-05</td>\n",
       "      <td>3.8857587e-05</td>\n",
       "    </tr>\n",
       "    <tr>\n",
       "      <th>11</th>\n",
       "      <td>12</td>\n",
       "      <td>1.2565917969</td>\n",
       "      <td>1.256640625</td>\n",
       "      <td>1.2566162109</td>\n",
       "      <td>2.07128e-05</td>\n",
       "      <td>1.9428416e-05</td>\n",
       "    </tr>\n",
       "    <tr>\n",
       "      <th>12</th>\n",
       "      <td>13</td>\n",
       "      <td>1.2566162109</td>\n",
       "      <td>1.256640625</td>\n",
       "      <td>1.256628418</td>\n",
       "      <td>-1.4841e-05</td>\n",
       "      <td>9.714114e-06</td>\n",
       "    </tr>\n",
       "  </tbody>\n",
       "</table>\n",
       "</div>"
      ],
      "text/plain": [
       "     i           a_n          b_n           p_n         f(p_n)             e_r\n",
       "0    1           1.2          1.3          1.25    0.019152953            0.04\n",
       "1    2          1.25          1.3         1.275  -0.0545853516  0.019607843137\n",
       "2    3          1.25        1.275        1.2625  -0.0172248917  0.009900990099\n",
       "3    4          1.25       1.2625       1.25625   0.0010868925  0.004975124378\n",
       "4    5       1.25625       1.2625      1.259375  -0.0080382883  0.002481389578\n",
       "5    6       1.25625     1.259375     1.2578125  -0.0034680196  0.001242236025\n",
       "6    7       1.25625    1.2578125    1.25703125  -0.0011886439   0.00062150404\n",
       "7    8       1.25625   1.25703125   1.256640625   -5.03958e-05  0.000310848617\n",
       "8    9       1.25625  1.256640625  1.2564453125   0.0005183683  0.000155448469\n",
       "9   10  1.2564453125  1.256640625  1.2565429688   0.0002340162   7.7718194e-05\n",
       "10  11  1.2565429688  1.256640625  1.2565917969    9.18177e-05   3.8857587e-05\n",
       "11  12  1.2565917969  1.256640625  1.2566162109    2.07128e-05   1.9428416e-05\n",
       "12  13  1.2566162109  1.256640625   1.256628418    -1.4841e-05    9.714114e-06"
      ]
     },
     "execution_count": 55,
     "metadata": {},
     "output_type": "execute_result"
    }
   ],
   "source": [
    "#Ejemplo: HALLAR LA RAIZ DE LA FUNCIÓN f(x) =  x*cos(x) - 2*x**2 + 3*x - 1 , en el intervalo [1.2,1.3]\n",
    "\n",
    "f = lambda x:   x*cos(x) - 2*x**2 + 3*x - 1 \n",
    "biseccion(f,1.2, 1.3, 5,10, 16)"
   ]
  }
 ],
 "metadata": {
  "interpreter": {
   "hash": "1f485c2d89f8de183222016d4ba36353fb3264802c489289958f803c528ff9eb"
  },
  "kernelspec": {
   "display_name": "Python 3.7.3 32-bit",
   "language": "python",
   "name": "python3"
  },
  "language_info": {
   "codemirror_mode": {
    "name": "ipython",
    "version": 3
   },
   "file_extension": ".py",
   "mimetype": "text/x-python",
   "name": "python",
   "nbconvert_exporter": "python",
   "pygments_lexer": "ipython3",
   "version": "3.7.3"
  },
  "orig_nbformat": 4
 },
 "nbformat": 4,
 "nbformat_minor": 2
}
